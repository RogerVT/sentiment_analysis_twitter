{
 "metadata": {
  "language_info": {
   "codemirror_mode": {
    "name": "ipython",
    "version": 3
   },
   "file_extension": ".py",
   "mimetype": "text/x-python",
   "name": "python",
   "nbconvert_exporter": "python",
   "pygments_lexer": "ipython3",
   "version": "3.7.2-final"
  },
  "orig_nbformat": 2,
  "kernelspec": {
   "name": "python3",
   "display_name": "Python 3",
   "language": "python"
  }
 },
 "nbformat": 4,
 "nbformat_minor": 2,
 "cells": [
  {
   "cell_type": "code",
   "execution_count": null,
   "metadata": {},
   "outputs": [],
   "source": [
    "from textblob import TextBlob\n",
    "import tweepy\n",
    "import matplotlib.pyplot as plt\n",
    "import pandas as pd\n",
    "import numpy as np\n",
    "import nltk\n",
    "import re\n",
    "import string\n",
    "from wordcloud import WordCloud, STOPWORDS\n",
    "from nltk.sentiment.vader import SentimentIntensityAnalyzer\n",
    "from nltk.stem import SnowballStemmer\n",
    "from nltk.sentiment.vader import SentimentIntensityAnalyzer\n",
    "import plotly.express as px\n",
    "import pandas as pd"
   ]
  },
  {
   "cell_type": "code",
   "execution_count": null,
   "metadata": {},
   "outputs": [],
   "source": [
    "df = pd.read_pickle('./data_speech.pickle')\n",
    "data = pd.DataFrame(df)\n",
    "data = data [['index', 'title','date', 'content']]"
   ]
  },
  {
   "cell_type": "code",
   "execution_count": null,
   "metadata": {},
   "outputs": [],
   "source": [
    "obj = 1\n",
    "tar = data.content[0]\n",
    "t_tot = [s for s in tar if len(s) > 30]"
   ]
  },
  {
   "cell_type": "code",
   "execution_count": null,
   "metadata": {},
   "outputs": [],
   "source": [
    "\n",
    "tweet_list = pd.DataFrame(t_tot)\n",
    "tweet_list.drop_duplicates(inplace=True)\n",
    "\n",
    "print('Tweets a analizar: ',len(tweet_list))\n"
   ]
  },
  {
   "cell_type": "code",
   "execution_count": null,
   "metadata": {},
   "outputs": [],
   "source": [
    "tweet_list['text'] = tweet_list[0]\n",
    "traducir = lambda x: TextBlob(x).translate(to=\"en\")\n",
    "remove_rt = lambda x: re.sub('RT @\\w+: ',\" \",x)\n",
    "rt = lambda x: re.sub(\"(@[A-Za-z0–9]+)|([\\t])|(\\w+:\\/\\/\\S+)\",\"  \",x)\n",
    "tweet_list[\"text\"] = tweet_list.text.map(remove_rt).map(rt)\n",
    "tweet_list[\"text\"] = tweet_list.text.str.lower()\n",
    "tweet_list['text'] = tweet_list['text'].apply(traducir)\n",
    "tweet_list['text'] = tweet_list['text'].apply(lambda x: ''.join(x))\n",
    "tweet_list['text'].head(10)"
   ]
  },
  {
   "cell_type": "code",
   "execution_count": null,
   "metadata": {},
   "outputs": [],
   "source": [
    "tweet_list[['polarity', 'subjectivity']] = tweet_list['text'].apply(lambda Text: pd.Series(TextBlob(Text).sentiment))\n",
    "for index, row in tweet_list['text'].iteritems():\n",
    " score = SentimentIntensityAnalyzer().polarity_scores(row)\n",
    " neg = score['neg']\n",
    " neu = score['neu']\n",
    " pos = score['pos']\n",
    " comp = score['compound']\n",
    " if neg > pos:\n",
    "    tweet_list.loc[index, 'sentiment'] = \"negative\"\n",
    " elif pos > neg:\n",
    "    tweet_list.loc[index, 'sentiment'] = \"positive\"\n",
    " else:\n",
    "    tweet_list.loc[index, 'sentiment'] = \"neutral\"\n",
    "    tweet_list.loc[index, 'neg'] = neg\n",
    "    tweet_list.loc[index, 'neu'] = neu\n",
    "    tweet_list.loc[index, 'pos'] = pos\n",
    "    tweet_list.loc[index, 'compound'] = comp\n",
    "tweet_list[['text','polarity','subjectivity','sentiment']].head(10)"
   ]
  },
  {
   "cell_type": "code",
   "execution_count": null,
   "metadata": {},
   "outputs": [],
   "source": [
    "tweet_list_negative = tweet_list[tweet_list[\"sentiment\"]==\"negative\"]\n",
    "tweet_list_positive = tweet_list[tweet_list[\"sentiment\"]==\"positive\"]\n",
    "tweet_list_neutral = tweet_list[tweet_list[\"sentiment\"]==\"neutral\"]"
   ]
  },
  {
   "cell_type": "code",
   "execution_count": null,
   "metadata": {},
   "outputs": [],
   "source": [
    "def count_values_in_column(data,feature):\n",
    " total=data.loc[:,feature].value_counts(dropna=False)\n",
    " percentage=round(data.loc[:,feature].value_counts(dropna=False,normalize=True)*100,2)\n",
    " return pd.concat([total,percentage],axis=1,keys=['Total','Percentage'])"
   ]
  },
  {
   "cell_type": "code",
   "execution_count": null,
   "metadata": {},
   "outputs": [],
   "source": [
    "res = count_values_in_column(tweet_list,\"sentiment\")\n",
    "res"
   ]
  },
  {
   "cell_type": "code",
   "execution_count": null,
   "metadata": {},
   "outputs": [],
   "source": [
    "res.index.to_list()"
   ]
  },
  {
   "cell_type": "code",
   "execution_count": null,
   "metadata": {},
   "outputs": [],
   "source": [
    "sizes = res['Total'].to_list()\n",
    "names = res.index.to_list()\n",
    "title = 'Análisis de sentimiento para discurso ' + str(1)"
   ]
  },
  {
   "cell_type": "code",
   "execution_count": null,
   "metadata": {},
   "outputs": [],
   "source": [
    "fig = px.pie(res, values=sizes, names=names, title=title ,color_discrete_sequence= px.colors.qualitative.Safe)\n",
    "fig.show()"
   ]
  },
  {
   "cell_type": "code",
   "execution_count": null,
   "metadata": {},
   "outputs": [],
   "source": [
    "stop_words = set(nltk.corpus.stopwords.words('spanish'))\n",
    "\n",
    "wordcloud = WordCloud(stopwords=stop_words,max_words=3000 ,background_color=\"white\", repeat=False).generate(str(tweet_list[\"text\"].values))\n",
    "plt.imshow(wordcloud, interpolation='bilinear')\n",
    "plt.axis(\"off\")\n",
    "plt.figure(figsize=(40,40))\n",
    "plt.show(sizes)"
   ]
  },
  {
   "cell_type": "code",
   "execution_count": null,
   "metadata": {},
   "outputs": [],
   "source": [
    "wordcloud = WordCloud(stopwords=stop_words,max_words=3000 ,background_color=\"white\", repeat=False).generate(str(tweet_list_positive[\"text\"].values))\n",
    "plt.imshow(wordcloud, interpolation='bilinear')\n",
    "plt.axis(\"off\")\n",
    "plt.show()"
   ]
  },
  {
   "cell_type": "code",
   "execution_count": null,
   "metadata": {},
   "outputs": [],
   "source": [
    "wordcloud = WordCloud(stopwords=stop_words,max_words=3000 ,background_color=\"white\", repeat=False).generate(str(tweet_list_negative[\"text\"].values))\n",
    "plt.imshow(wordcloud, interpolation='bilinear')\n",
    "plt.axis(\"off\")\n",
    "plt.show()"
   ]
  },
  {
   "cell_type": "code",
   "execution_count": null,
   "metadata": {},
   "outputs": [],
   "source": [
    "wordcloud = WordCloud(stopwords=stop_words,max_words=3000 ,background_color=\"white\", repeat=False).generate(str(tweet_list_neutral[\"text\"].values))\n",
    "plt.imshow(wordcloud, interpolation='bilinear')\n",
    "plt.axis(\"off\")\n",
    "plt.show()"
   ]
  },
  {
   "cell_type": "code",
   "execution_count": null,
   "metadata": {},
   "outputs": [],
   "source": []
  }
 ]
}